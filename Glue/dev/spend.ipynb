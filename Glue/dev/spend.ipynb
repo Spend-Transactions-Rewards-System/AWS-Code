{
 "cells": [
  {
   "cell_type": "code",
   "execution_count": 2,
   "id": "29565fc6-3255-40f1-bf43-9086f1397a3d",
   "metadata": {},
   "outputs": [
    {
     "name": "stdout",
     "output_type": "stream",
     "text": [
      "Python 3.7.15\n",
      "pip 22.3.1 from /home/glue_user/.local/lib/python3.7/site-packages/pip (python 3.7)\n",
      "Defaulting to user installation because normal site-packages is not writeable\n",
      "Requirement already satisfied: mysql-connector-python in /home/glue_user/.local/lib/python3.7/site-packages (8.0.32)\n",
      "Requirement already satisfied: protobuf<=3.20.3,>=3.11.0 in /home/glue_user/.local/lib/python3.7/site-packages (from mysql-connector-python) (3.20.3)\n",
      "\n",
      "\u001b[1m[\u001b[0m\u001b[34;49mnotice\u001b[0m\u001b[1;39;49m]\u001b[0m\u001b[39;49m A new release of pip available: \u001b[0m\u001b[31;49m22.3.1\u001b[0m\u001b[39;49m -> \u001b[0m\u001b[32;49m23.0.1\u001b[0m\n",
      "\u001b[1m[\u001b[0m\u001b[34;49mnotice\u001b[0m\u001b[1;39;49m]\u001b[0m\u001b[39;49m To update, run: \u001b[0m\u001b[32;49mpython3 -m pip install --upgrade pip\u001b[0m\n"
     ]
    }
   ],
   "source": [
    "! python3 --version\n",
    "! pip3 --version\n",
    "! pip3 install mysql-connector-python"
   ]
  },
  {
   "cell_type": "code",
   "execution_count": 3,
   "id": "f77c6ba6-9893-4519-9d96-49d9c9e1e511",
   "metadata": {},
   "outputs": [
    {
     "name": "stdout",
     "output_type": "stream",
     "text": [
      "NAME=\"Amazon Linux\"\n",
      "VERSION=\"2\"\n",
      "ID=\"amzn\"\n",
      "ID_LIKE=\"centos rhel fedora\"\n",
      "VERSION_ID=\"2\"\n",
      "PRETTY_NAME=\"Amazon Linux 2\"\n",
      "ANSI_COLOR=\"0;33\"\n",
      "CPE_NAME=\"cpe:2.3:o:amazon:amazon_linux:2\"\n",
      "HOME_URL=\"https://amazonlinux.com/\"\n"
     ]
    }
   ],
   "source": [
    "! cat /etc/os-release\n",
    "# ! cp ./mysql-connector-java-5.1.49.jar $SPARK_HOME/jars\n",
    "# ! ls $SPARK_HOME/jars"
   ]
  },
  {
   "cell_type": "code",
   "execution_count": 102,
   "id": "4a093923-3e87-4ad2-a49c-ff20dc5962f5",
   "metadata": {},
   "outputs": [],
   "source": [
    "import sys\n",
    "import boto3\n",
    "from awsglue.transforms import *\n",
    "from awsglue.utils import getResolvedOptions\n",
    "from pyspark.context import SparkContext\n",
    "from pyspark.sql import SparkSession, Row\n",
    "from pyspark.sql.functions import col, lit, concat, create_map, when\n",
    "from pyspark.sql.types import StringType, DoubleType\n",
    "import pyspark.sql.functions as f\n",
    "from itertools import chain\n",
    "from awsglue.context import GlueContext\n",
    "from awsglue.job import Job\n",
    "\n",
    "import csv, io\n",
    "import mysql.connector\n",
    "from functools import partial\n",
    "from itertools import chain"
   ]
  },
  {
   "cell_type": "code",
   "execution_count": 5,
   "id": "4c785a6b-00a7-4352-b536-9258aedf27a2",
   "metadata": {},
   "outputs": [],
   "source": [
    "spark = SparkSession.builder \\\n",
    "           .appName('123.com') \\\n",
    "           .config(\"spark.jars\", \"mysql-connector-java-5.1.49.jar\") \\\n",
    "           .getOrCreate()"
   ]
  },
  {
   "cell_type": "code",
   "execution_count": 6,
   "id": "8f3cbaeb-6832-41b2-94d3-d9c7b88e984a",
   "metadata": {},
   "outputs": [],
   "source": [
    "class DB_Connection():\n",
    "    def __init__(self, db_name, hostname = None, user = None, password = None, driver_type = \"mysql\", driver_port = 3306, glue_cilent = None, connection_name = None):\n",
    "        try:\n",
    "            self.glue = False\n",
    "            if glue_cilent is not None and connection_name is not None:\n",
    "                self.glue = True\n",
    "                connection = glue_cilent.get_connection(Name=connection_name)\n",
    "                self.hostname = connection['Connection']['ConnectionProperties']['JDBC_CONNECTION_URL']\n",
    "                self.hostname = self.hostname.split('/')[2].split(':')[0]\n",
    "                self.user = connection['Connection']['ConnectionProperties']['USERNAME']\n",
    "                self.password = connection['Connection']['ConnectionProperties']['PASSWORD']\n",
    "            else:\n",
    "                self.hostname = hostname\n",
    "                self.user = user\n",
    "                self.password = password\n",
    "            \n",
    "            self.conn = None\n",
    "            self.db_name = db_name\n",
    "            self.driver_type = driver_type\n",
    "            self.driver_port = driver_port\n",
    "            \n",
    "            self.jdbc_url = f'jdbc:{self.driver_type}://{self.hostname}:{self.driver_port}/{self.db_name}'\n",
    "        except Exception as e:\n",
    "            print(f\"Error getting connection settings for DB: {db_name} at {hostname}\\n{e}\")\n",
    "    def get_options(self, table):\n",
    "        return {'url': self.jdbc_url,'user': self.user, 'password': self.password, 'dbtable': table}\n",
    "    def get_conn(self, dbType = \"mysql\", mandatory = False, ssl_disabled= True):\n",
    "        # self.conn.is_connected()\n",
    "        if dbType == \"mysql\":\n",
    "            self.conn =  mysql.connector.connect(user=self.user, password=self.password, host=self.hostname, database=self.db_name, ssl_disabled= ssl_disabled)\n",
    "        if mandatory: assert self.conn is not None, f\"Did not manage to connect to {dbType}\"\n",
    "        return self.conn\n",
    "    def close_conn(self):\n",
    "        if self.conn is not None and self.conn.is_connected():\n",
    "            self.conn.close()"
   ]
  },
  {
   "cell_type": "code",
   "execution_count": 568,
   "id": "74211d51-4c08-4bd4-8ae6-7bd6197962b0",
   "metadata": {},
   "outputs": [],
   "source": [
    "# IMPORTANT VARIABLES\n",
    "TENANT = 'scis'\n",
    "conversionRateMapping = {\n",
    "    \"USD\": 1.35,\n",
    "    \"SGD\": 1\n",
    "}\n",
    "csvFile = './testSpend.csv'\n",
    "queueName = 'CampaignToCard'"
   ]
  },
  {
   "cell_type": "code",
   "execution_count": 508,
   "id": "989962c0-cdf1-4ee7-8da2-5f088d308fce",
   "metadata": {},
   "outputs": [],
   "source": [
    "#  Get relevant data\n",
    "\n",
    "s3_df_ = spark.read.format(\"csv\").option(\"header\", \"true\").load(csvFile)\n",
    "s3_df_ = s3_df_.withColumn(\"remark\", lit(None).cast(StringType()))\n"
   ]
  },
  {
   "cell_type": "code",
   "execution_count": 509,
   "id": "bdac51c4-a024-4d7b-b570-74edcf2473fa",
   "metadata": {},
   "outputs": [
    {
     "name": "stdout",
     "output_type": "stream",
     "text": [
      "{'url': 'jdbc:mysql://host.docker.internal:8003/campaign_db', 'user': 'admin', 'password': 'adminadmin', 'dbtable': 'campaign'}\n"
     ]
    }
   ],
   "source": [
    "# Get relevant connections\n",
    "campaign_db2_c = DB_Connection(db_name = 'campaign_db', hostname = 'host.docker.internal', driver_type = \"mysql\", driver_port = 8003, user = 'admin', password = 'adminadmin')\n",
    "print(campaign_db2_c.get_options(\"campaign\"))"
   ]
  },
  {
   "cell_type": "code",
   "execution_count": 511,
   "id": "66a68492-0ab7-4f2c-b36c-bc6eeb848222",
   "metadata": {},
   "outputs": [
    {
     "name": "stdout",
     "output_type": "stream",
     "text": [
      "5\n",
      "['id', 'transaction_id', 'merchant', 'mcc', 'currency', 'amount', 'transaction_date', 'card_id', 'card_type', 'remark']\n",
      "+--------------------+--------------------+--------------------+----+--------+-------+----------------+--------------------+-------------+------+\n",
      "|                  id|      transaction_id|            merchant| mcc|currency| amount|transaction_date|             card_id|    card_type|remark|\n",
      "+--------------------+--------------------+--------------------+----+--------+-------+----------------+--------------------+-------------+------+\n",
      "|055cd9e8-e9f4-4f8...|5cbd48a13727468fe...|           Bayer LLC|1047|     SGD| 158.54|        3/9/2021|605ec742-0ac4-43e...|scis_shopping|  null|\n",
      "|4a25d76c-2db7-47b...|a750165d557443feb...|Transaction Recor...|   0|     SGD|1252.95|        3/9/2021|605ec742-0ac4-43e...|scis_shopping|  null|\n",
      "|43dd9d38-9b7f-4a2...|41a928d858e21fd36...|     Bahringer Group|8462|     SGD|  37.72|        3/9/2021|2379df1a-d1fe-415...|scis_shopping|  null|\n",
      "|5b2d5c02-75fc-404...|8a46f127d7e3ec1e5...|       Langworth Inc|9997|     SGD|  64.77|        3/9/2021|2379df1a-d1fe-415...|scis_shopping|  null|\n",
      "|20285a85-788f-47e...|3cc0c41872cc33b39...|               Smith|8173|     USD| 580.94|        3/9/2021|2379df1a-d1fe-415...|scis_shopping|  null|\n",
      "+--------------------+--------------------+--------------------+----+--------+-------+----------------+--------------------+-------------+------+\n",
      "\n"
     ]
    }
   ],
   "source": [
    "print(s3_df.count())\n",
    "print(s3_df.columns)\n",
    "s3_df.limit(5).show()"
   ]
  },
  {
   "cell_type": "code",
   "execution_count": 539,
   "id": "c2c838ac-5553-4a92-924e-6f10b1f5f854",
   "metadata": {},
   "outputs": [],
   "source": [
    "s3_df = s3_df_"
   ]
  },
  {
   "cell_type": "code",
   "execution_count": 540,
   "id": "e836bcd1-1d4b-4016-831d-cf72700cfd0a",
   "metadata": {},
   "outputs": [
    {
     "name": "stdout",
     "output_type": "stream",
     "text": [
      "0\n",
      "5\n"
     ]
    }
   ],
   "source": [
    "# Check MCC\n",
    "errorDf = s3_df.filter(col('mcc').isNull())\n",
    "s3_df = s3_df.filter(col('mcc').isNotNull())\n",
    "\n",
    "errorDf = errorDf.na.fill(value=\"MCC is empty!\",subset=[\"remark\"])\n",
    "\n",
    "print(errorDf.count())\n",
    "print(s3_df.count())"
   ]
  },
  {
   "cell_type": "code",
   "execution_count": 541,
   "id": "846700d4-ffc7-4c0c-b205-e1331fa5cbaa",
   "metadata": {},
   "outputs": [
    {
     "name": "stdout",
     "output_type": "stream",
     "text": [
      "0\n",
      "5\n"
     ]
    }
   ],
   "source": [
    "# Check duplicates rows\n",
    "s3_df = s3_df.join(\n",
    "    s3_df.groupBy('transaction_id').agg((f.count(\"*\")>1).cast(\"int\").alias(\"Duplicate_indicator\")),\n",
    "    on='transaction_id',\n",
    "    how=\"inner\"\n",
    ")\n",
    "errorDf = errorDf.union(s3_df.filter(col(\"Duplicate_indicator\") == 1).select(errorDf.columns))\n",
    "s3_df = s3_df.filter(col(\"Duplicate_indicator\") != 1).select(errorDf.columns)\n",
    "errorDf = errorDf.na.fill(value=\"Duplicate rows\",subset=[\"remark\"])\n",
    "print(errorDf.count())\n",
    "print(s3_df.count())"
   ]
  },
  {
   "cell_type": "code",
   "execution_count": 542,
   "id": "4acb9206-d335-47bf-aa0f-2f855a83ec5d",
   "metadata": {},
   "outputs": [
    {
     "name": "stdout",
     "output_type": "stream",
     "text": [
      "0\n",
      "5\n"
     ]
    }
   ],
   "source": [
    "# Check card type\n",
    "cardTypesDf = spark.read.format(\"jdbc\").option('driver', 'com.mysql.jdbc.Driver').option(\"url\", campaign_db2_c.jdbc_url).option(\"user\", campaign_db2_c.user).option(\"password\", campaign_db2_c.password).option(\"dbtable\", \"card_type\").load()\n",
    "cardTypesDf = cardTypesDf.filter(col(\"tenant\") == TENANT)\n",
    "cardTypesDf = cardTypesDf.withColumnRenamed(\"id\", \"cardTypeId\")\n",
    "\n",
    "# interest cols\n",
    "colsInterest = s3_df.columns\n",
    "colsInterest.append(\"cardTypeId\")\n",
    "s3_df = s3_df.join(cardTypesDf, s3_df.card_type ==  cardTypesDf.name,\"left\").select(colsInterest)\n",
    "\n",
    "# Check card type\n",
    "errorDf = errorDf.union(s3_df.filter(col('cardTypeId').isNull()).select(errorDf.columns) )\n",
    "s3_df = s3_df.filter(col('cardTypeId').isNotNull())\n",
    "\n",
    "errorDf = errorDf.na.fill(value=\"Card type not registered in DB!\",subset=[\"remark\"])\n",
    "print(errorDf.count())\n",
    "print(s3_df.count())"
   ]
  },
  {
   "cell_type": "code",
   "execution_count": 543,
   "id": "0304e774-5435-4819-b6a4-f949b30203fb",
   "metadata": {},
   "outputs": [
    {
     "name": "stdout",
     "output_type": "stream",
     "text": [
      "+--------------------+--------------------+--------------------+----+--------+-------+----------------+--------------------+-------------+------+----------+----------------+---------------+--------------------+\n",
      "|                  id|      transaction_id|            merchant| mcc|currency| amount|transaction_date|             card_id|    card_type|remark|cardTypeId|rewardAmountBase|rewardAmountCat|rewardAmountCampaign|\n",
      "+--------------------+--------------------+--------------------+----+--------+-------+----------------+--------------------+-------------+------+----------+----------------+---------------+--------------------+\n",
      "|20285a85-788f-47e...|3cc0c41872cc33b39...|               Smith|8173|     USD| 580.94|        3/9/2021|2379df1a-d1fe-415...|scis_shopping|  null|         4|             0.0|            0.0|                 0.0|\n",
      "|5b2d5c02-75fc-404...|8a46f127d7e3ec1e5...|       Langworth Inc|9997|     SGD|  64.77|        3/9/2021|2379df1a-d1fe-415...|scis_shopping|  null|         4|             0.0|            0.0|                 0.0|\n",
      "|43dd9d38-9b7f-4a2...|41a928d858e21fd36...|     Bahringer Group|8462|     SGD|  37.72|        3/9/2021|2379df1a-d1fe-415...|scis_shopping|  null|         4|             0.0|            0.0|                 0.0|\n",
      "|4a25d76c-2db7-47b...|a750165d557443feb...|Transaction Recor...|   0|     SGD|1252.95|        3/9/2021|605ec742-0ac4-43e...|scis_shopping|  null|         4|             0.0|            0.0|                 0.0|\n",
      "|055cd9e8-e9f4-4f8...|5cbd48a13727468fe...|           Bayer LLC|1047|     SGD| 158.54|        3/9/2021|605ec742-0ac4-43e...|scis_shopping|  null|         4|             0.0|            0.0|                 0.0|\n",
      "+--------------------+--------------------+--------------------+----+--------+-------+----------------+--------------------+-------------+------+----------+----------------+---------------+--------------------+\n",
      "\n"
     ]
    }
   ],
   "source": [
    "s3_df = s3_df.withColumn(\"rewardAmountBase\", lit(0).cast(DoubleType()) ).withColumn(\"rewardAmountCat\", lit(0).cast(DoubleType()) ).withColumn(\"rewardAmountCampaign\", lit(0).cast(DoubleType()) )\n",
    "s3_df.limit(5).show()"
   ]
  },
  {
   "cell_type": "code",
   "execution_count": 471,
   "id": "315a9504-0e2c-4c3a-b47c-22684fcb4260",
   "metadata": {},
   "outputs": [
    {
     "data": {
      "text/plain": [
       "<bound method IndexOpsMixin.tolist of Series([], Name: merchant, dtype: object)>"
      ]
     },
     "execution_count": 471,
     "metadata": {},
     "output_type": "execute_result"
    }
   ],
   "source": [
    "customCatDf.loc[( customCatDf.apply(lambda x: x['name'].upper() in 'AXS Payments'.upper(), axis=1) ) & (customCatDf['mcc'] == int(9399)), 'merchant'].tolist"
   ]
  },
  {
   "cell_type": "code",
   "execution_count": 544,
   "id": "639ebdea-5a8c-4722-ac3e-a32c294c5d94",
   "metadata": {},
   "outputs": [],
   "source": [
    "def processingFunc(partitionData, conversionRateMapping, mccExclusionDf, campaignRulesDf, customCatDf):\n",
    "#     print(\"Start\")\n",
    "    remarks_mapping = {\n",
    "        \"default\": [\"Base reward\", \"Category reward\", \"Campaign reward\"],\n",
    "        \"cols\": [\"rewardAmountBase\",\"rewardAmountCat\" , \"rewardAmountCampaign\"],\n",
    "        \"rate\": ['cashback', 'miles', 'miles', 'points']\n",
    "    }\n",
    "    for row in partitionData:\n",
    "        row = row.asDict()\n",
    "        row['mcc'] = int(row['mcc'])\n",
    "        row['cardTypeId'] = int(row['cardTypeId'])\n",
    "        row['remark'] = ''\n",
    "        try:\n",
    "            check_exclusion = len(mccExclusionDf.loc[(mccExclusionDf['card_type_id'] == row['cardTypeId']) & (mccExclusionDf['mcc_mcc'] == row['mcc'])]) > 0\n",
    "            currencyRate = conversionRateMapping.get(row['currency'].upper(), False)\n",
    "            if check_exclusion:\n",
    "                print( f\"{row['mcc']} is part of the exclusion list!\")\n",
    "                row['remark'] = f\"No reward due to exclusion - {row['mcc']}\"\n",
    "            elif not currencyRate:\n",
    "                print(f\"{row[currency]} is not in currency mapping!\")\n",
    "                row['remark'] = f\"{row[currency]} is not in currency mapping!\"\n",
    "                row['rewardAmountBase'] = None\n",
    "            else:\n",
    "                amount = float(row['amount']) * currencyRate\n",
    "                isForeign = row['currency'] != \"SGD\"\n",
    "                \n",
    "                # Calculate base, category and campaigns\n",
    "                conditions_base = campaignRulesDf.loc[(campaignRulesDf['title'] == 'base') & (campaignRulesDf['card_type_id'] == row['cardTypeId'])]\n",
    "                conditions_category = campaignRulesDf.loc[(campaignRulesDf['title'] == 'category') & (campaignRulesDf['card_type_id'] == row['cardTypeId'])]\n",
    "                conditions_campaigns = campaignRulesDf.loc[(campaignRulesDf['end_date'].notna()) & (campaignRulesDf['card_type_id'] == row['cardTypeId'])]\n",
    "                conditions_arr = [conditions_base, conditions_category, conditions_campaigns]\n",
    "                \n",
    "                for i in range(len(conditions_arr)):\n",
    "                    conditions = conditions_arr[i]\n",
    "                    reward_rate = 0\n",
    "                    remark = ''\n",
    "                    for index, condition in conditions.iterrows():\n",
    "                        if condition['is_foreign'] and condition['is_foreign'] is not isForeign:\n",
    "                            continue\n",
    "                        if float(condition['min_dollar_spent']) > amount:\n",
    "                            continue\n",
    "                        if condition['merchant'] is not None and condition['merchant'].upper() not in row[\"merchant\"].upper():\n",
    "                            continue\n",
    "\n",
    "                        if condition['custom_category_name'] is not None:\n",
    "                            custom_cat_list = customCatDf.loc[( customCatDf.apply(lambda x: x['name'].upper() in row['merchant'].upper(), axis=1) ) & (customCatDf['mcc'] == int(row['mcc'])), 'merchant'].tolist()\n",
    "                            if condition['custom_category_name'] not in custom_cat_list:\n",
    "                                continue\n",
    "\n",
    "                        if reward_rate < float(condition['reward_rate']):\n",
    "                            reward_rate = float(condition['reward_rate'])\n",
    "#                             {condition['title']}-\n",
    "                            \n",
    "                            if row['cardTypeId'] == 1:\n",
    "                                rate = round(condition['reward_rate']*100,2)\n",
    "                            else:\n",
    "                                rate = round(condition['reward_rate'],2)\n",
    "                            \n",
    "                            remark =  f\"{remarks_mapping['default'][i]} giving {rate} {remarks_mapping['rate'][row['cardTypeId'] - 1]}/SGD\" \n",
    "                            \n",
    "                    if reward_rate != 0: \n",
    "#                         print(reward_rate, row['merchant'], amount)\n",
    "                        amount *= reward_rate\n",
    "                        row[remarks_mapping['cols'][i]] = amount\n",
    "                    row['remark'] += f\"{remark},\"\n",
    "                        \n",
    "        except Exception as e:\n",
    "            print(e)\n",
    "            row['remark'] = f\"Error in processing, {e}\"\n",
    "            row['rewardAmountBase'] = None\n",
    "        yield Row(**row)"
   ]
  },
  {
   "cell_type": "code",
   "execution_count": 285,
   "id": "c6a5d754-0015-4cd2-8a8b-a40ffc609053",
   "metadata": {},
   "outputs": [],
   "source": [
    "# s3_df_limit = s3_df.limit(10)"
   ]
  },
  {
   "cell_type": "code",
   "execution_count": 520,
   "id": "f4b69c6c-b2c4-4d5a-ba3e-6c1a7bb5395b",
   "metadata": {},
   "outputs": [],
   "source": [
    "# Get Exclusion list\n",
    "mccExclusionDf = spark.read.format(\"jdbc\").option('driver', 'com.mysql.jdbc.Driver').option(\"url\", campaign_db2_c.jdbc_url).option(\"user\", campaign_db2_c.user).option(\"password\", campaign_db2_c.password).option(\"dbtable\", \"mcc_exclusion\").load()\n",
    "mccExclusionDf = mccExclusionDf.filter(col(\"tenant\") == TENANT).toPandas()\n",
    "\n",
    "# Campaign Rules\n",
    "campaignRulesDf = spark.read.format(\"jdbc\").option('driver', 'com.mysql.jdbc.Driver').option(\"url\", campaign_db2_c.jdbc_url).option(\"user\", campaign_db2_c.user).option(\"password\", campaign_db2_c.password).option(\"dbtable\", \"campaign\").load()\n",
    "campaignRulesDf = campaignRulesDf.filter(col(\"is_active\")== True).toPandas()\n",
    "#     baseDf = campaignRulesDf.filter(col('title') == 'base')\n",
    "#     catDf = campaignRulesDf.filter(col('title') == 'category')\n",
    "#     campaignDf = campaignRulesDf.filter(col('end_date').isNotNull())\n",
    "\n",
    "# Custom Category\n",
    "customCatDf = spark.read.format(\"jdbc\").option('driver', 'com.mysql.jdbc.Driver').option(\"url\", campaign_db2_c.jdbc_url).option(\"user\", campaign_db2_c.user).option(\"password\", campaign_db2_c.password).option(\"dbtable\", \"custom_category\").load().toPandas()\n",
    "# mcc\n",
    "#     campaignDf = spark.read.format(\"jdbc\").option('driver', 'com.mysql.jdbc.Driver').option(\"url\", campaign_db2_c.jdbc_url).option(\"user\", campaign_db2_c.user).option(\"password\", campaign_db2_c.password).option(\"dbtable\", \"mcc\").load()\n",
    "\n",
    "\n",
    "# map(lambda row: row.asDict(), df.collect())"
   ]
  },
  {
   "cell_type": "code",
   "execution_count": 545,
   "id": "0a34e736-b948-40b1-bfc2-b7c581d52624",
   "metadata": {},
   "outputs": [],
   "source": [
    "campaign_db2_c.close_conn()\n",
    "s3_df_rdd = s3_df.rdd.mapPartitions( partial(processingFunc, conversionRateMapping = conversionRateMapping, mccExclusionDf=mccExclusionDf, campaignRulesDf=campaignRulesDf, customCatDf= customCatDf) )"
   ]
  },
  {
   "cell_type": "code",
   "execution_count": 546,
   "id": "3365da8c-baeb-4138-8bdf-c36c548bf7d7",
   "metadata": {},
   "outputs": [
    {
     "data": {
      "text/plain": [
       "1"
      ]
     },
     "execution_count": 546,
     "metadata": {},
     "output_type": "execute_result"
    }
   ],
   "source": [
    "s3_df_rdd.getNumPartitions()"
   ]
  },
  {
   "cell_type": "code",
   "execution_count": 559,
   "id": "96ca33a8-07df-499c-bced-b45c65e47b0b",
   "metadata": {},
   "outputs": [],
   "source": [
    "s3_df = s3_df_rdd.toDF()"
   ]
  },
  {
   "cell_type": "code",
   "execution_count": 549,
   "id": "9e099eee-0ace-47d5-9c19-29f24428be61",
   "metadata": {},
   "outputs": [
    {
     "name": "stdout",
     "output_type": "stream",
     "text": [
      "+--------------------+----+--------+-------+--------------------+-----------------+---------------+--------------------+-------------+\n",
      "|            merchant| mcc|currency| amount|              remark| rewardAmountBase|rewardAmountCat|rewardAmountCampaign|    card_type|\n",
      "+--------------------+----+--------+-------+--------------------+-----------------+---------------+--------------------+-------------+\n",
      "|               Smith|8173|     USD| 580.94|Base reward givin...|784.2690000000001|            0.0|                 0.0|scis_shopping|\n",
      "|       Langworth Inc|9997|     SGD|  64.77|Base reward givin...|            64.77|            0.0|                 0.0|scis_shopping|\n",
      "|     Bahringer Group|8462|     SGD|  37.72|Base reward givin...|            37.72|            0.0|                 0.0|scis_shopping|\n",
      "|Transaction Recor...|   0|     SGD|1252.95|Base reward givin...|          1252.95|            0.0|              5011.8|scis_shopping|\n",
      "|           Bayer LLC|1047|     SGD| 158.54|Base reward givin...|           158.54|            0.0|                 0.0|scis_shopping|\n",
      "+--------------------+----+--------+-------+--------------------+-----------------+---------------+--------------------+-------------+\n",
      "\n"
     ]
    }
   ],
   "source": [
    "df.select(['merchant','mcc','currency', 'amount', 'remark', \"rewardAmountBase\",\"rewardAmountCat\" , \"rewardAmountCampaign\", 'card_type']).limit(20).show()"
   ]
  },
  {
   "cell_type": "code",
   "execution_count": 558,
   "id": "7b337a10-0512-4c0e-8af8-c1109fb0a670",
   "metadata": {},
   "outputs": [
    {
     "data": {
      "text/html": [
       "<div>\n",
       "<style scoped>\n",
       "    .dataframe tbody tr th:only-of-type {\n",
       "        vertical-align: middle;\n",
       "    }\n",
       "\n",
       "    .dataframe tbody tr th {\n",
       "        vertical-align: top;\n",
       "    }\n",
       "\n",
       "    .dataframe thead th {\n",
       "        text-align: right;\n",
       "    }\n",
       "</style>\n",
       "<table border=\"1\" class=\"dataframe\">\n",
       "  <thead>\n",
       "    <tr style=\"text-align: right;\">\n",
       "      <th></th>\n",
       "      <th>merchant</th>\n",
       "      <th>mcc</th>\n",
       "      <th>currency</th>\n",
       "      <th>amount</th>\n",
       "      <th>remark</th>\n",
       "      <th>rewardAmountBase</th>\n",
       "      <th>rewardAmountCat</th>\n",
       "      <th>rewardAmountCampaign</th>\n",
       "      <th>card_type</th>\n",
       "    </tr>\n",
       "  </thead>\n",
       "  <tbody>\n",
       "    <tr>\n",
       "      <th>0</th>\n",
       "      <td>Smith</td>\n",
       "      <td>8173</td>\n",
       "      <td>USD</td>\n",
       "      <td>580.94</td>\n",
       "      <td>Base reward giving 1.0 points/SGD,,,</td>\n",
       "      <td>784.269</td>\n",
       "      <td>0.0</td>\n",
       "      <td>0.0</td>\n",
       "      <td>scis_shopping</td>\n",
       "    </tr>\n",
       "    <tr>\n",
       "      <th>1</th>\n",
       "      <td>Langworth Inc</td>\n",
       "      <td>9997</td>\n",
       "      <td>SGD</td>\n",
       "      <td>64.77</td>\n",
       "      <td>Base reward giving 1.0 points/SGD,,,</td>\n",
       "      <td>64.770</td>\n",
       "      <td>0.0</td>\n",
       "      <td>0.0</td>\n",
       "      <td>scis_shopping</td>\n",
       "    </tr>\n",
       "    <tr>\n",
       "      <th>2</th>\n",
       "      <td>Bahringer Group</td>\n",
       "      <td>8462</td>\n",
       "      <td>SGD</td>\n",
       "      <td>37.72</td>\n",
       "      <td>Base reward giving 1.0 points/SGD,,,</td>\n",
       "      <td>37.720</td>\n",
       "      <td>0.0</td>\n",
       "      <td>0.0</td>\n",
       "      <td>scis_shopping</td>\n",
       "    </tr>\n",
       "    <tr>\n",
       "      <th>3</th>\n",
       "      <td>Transaction Record Grab Foods</td>\n",
       "      <td>0</td>\n",
       "      <td>SGD</td>\n",
       "      <td>1252.95</td>\n",
       "      <td>Base reward giving 1.0 points/SGD,,Campaign re...</td>\n",
       "      <td>1252.950</td>\n",
       "      <td>0.0</td>\n",
       "      <td>5011.8</td>\n",
       "      <td>scis_shopping</td>\n",
       "    </tr>\n",
       "    <tr>\n",
       "      <th>4</th>\n",
       "      <td>Bayer LLC</td>\n",
       "      <td>1047</td>\n",
       "      <td>SGD</td>\n",
       "      <td>158.54</td>\n",
       "      <td>Base reward giving 1.0 points/SGD,,,</td>\n",
       "      <td>158.540</td>\n",
       "      <td>0.0</td>\n",
       "      <td>0.0</td>\n",
       "      <td>scis_shopping</td>\n",
       "    </tr>\n",
       "  </tbody>\n",
       "</table>\n",
       "</div>"
      ],
      "text/plain": [
       "                        merchant   mcc currency   amount  \\\n",
       "0                          Smith  8173      USD   580.94   \n",
       "1                  Langworth Inc  9997      SGD    64.77   \n",
       "2                Bahringer Group  8462      SGD    37.72   \n",
       "3  Transaction Record Grab Foods     0      SGD  1252.95   \n",
       "4                      Bayer LLC  1047      SGD   158.54   \n",
       "\n",
       "                                              remark  rewardAmountBase  \\\n",
       "0               Base reward giving 1.0 points/SGD,,,           784.269   \n",
       "1               Base reward giving 1.0 points/SGD,,,            64.770   \n",
       "2               Base reward giving 1.0 points/SGD,,,            37.720   \n",
       "3  Base reward giving 1.0 points/SGD,,Campaign re...          1252.950   \n",
       "4               Base reward giving 1.0 points/SGD,,,           158.540   \n",
       "\n",
       "   rewardAmountCat  rewardAmountCampaign      card_type  \n",
       "0              0.0                   0.0  scis_shopping  \n",
       "1              0.0                   0.0  scis_shopping  \n",
       "2              0.0                   0.0  scis_shopping  \n",
       "3              0.0                5011.8  scis_shopping  \n",
       "4              0.0                   0.0  scis_shopping  "
      ]
     },
     "execution_count": 558,
     "metadata": {},
     "output_type": "execute_result"
    }
   ],
   "source": [
    "df = df.toPandas()\n",
    "df[['merchant','mcc','currency', 'amount', 'remark', \"rewardAmountBase\",\"rewardAmountCat\" , \"rewardAmountCampaign\", 'card_type']]"
   ]
  },
  {
   "cell_type": "code",
   "execution_count": 560,
   "id": "6f701c5d-42ab-4e3c-ae51-a2b254339240",
   "metadata": {},
   "outputs": [
    {
     "name": "stdout",
     "output_type": "stream",
     "text": [
      "0\n",
      "5\n"
     ]
    }
   ],
   "source": [
    "errorDf = errorDf.union(s3_df.filter(col('rewardAmountBase').isNull()).select(errorDf.columns) )\n",
    "s3_df = s3_df.filter(col('rewardAmountBase').isNotNull())\n",
    "\n",
    "print(errorDf.count())\n",
    "print(s3_df.count())"
   ]
  },
  {
   "cell_type": "code",
   "execution_count": 422,
   "id": "3e0f5263-1e93-4154-8227-cbe038a06735",
   "metadata": {},
   "outputs": [],
   "source": [
    "errorDf.coalesce(1).write.format('csv').option(\"header\", \"true\").save(\"./error.csv\") #s3://filepath"
   ]
  },
  {
   "cell_type": "code",
   "execution_count": 569,
   "id": "8a397a62-b206-4605-bfeb-28288adadfc4",
   "metadata": {},
   "outputs": [],
   "source": [
    "def sendToQueue(partitionData, queueName, tenant):\n",
    "    sqs = boto3.resource('sqs')\n",
    "    queue = sqs.get_queue_by_name(QueueName=queueName)\n",
    "    \n",
    "    for row in partitionData:\n",
    "        row = row.asDict()\n",
    "        remarks = row['remark'].split(',')\n",
    "        amount_arr = [row['rewardAmountBase'],row['rewardAmountCat'],row['rewardAmountCampaign'] ]\n",
    "        for i in range(3):\n",
    "            if remarks[i] == '':\n",
    "                continue\n",
    "\n",
    "            message_body = {\n",
    "                \"tenant\": tenant.upper(),\n",
    "                \"transactionId\": row['transaction_id'],\n",
    "                \"transactionDate\": row['transaction_date'],\n",
    "                \"cardId\": row['card_id'],\n",
    "                \"merchant\": row['merchant'],\n",
    "                \"mcc\": row['mcc'],\n",
    "                \"currency\": row['currency'],\n",
    "                \"amount\": float(row['amount']),\n",
    "                \"rewardAmount\": round(float(amount_arr[i]),2),\n",
    "                \"remarks\": remarks[i]\n",
    "            }\n",
    "            print(message_body)\n",
    "            try:\n",
    "                response = queue.send_message(MessageBody=message_body)\n",
    "            except ClientError as error:\n",
    "                sqs = boto3.resource('sqs')\n",
    "                queue = sqs.get_queue_by_name(QueueName=queueName)\n",
    "                response = queue.send_message(MessageBody=message_body)\n",
    "            \n"
   ]
  },
  {
   "cell_type": "code",
   "execution_count": 570,
   "id": "2f21e5ab-287f-4a35-b504-59b02669c196",
   "metadata": {},
   "outputs": [],
   "source": [
    "s3_df.foreachPartition( partial(sendToQueue, queueName=queueName, tenant = TENANT) )"
   ]
  },
  {
   "cell_type": "code",
   "execution_count": 571,
   "id": "5dd7b597-a9ed-48b9-9ed6-9afba65f7c91",
   "metadata": {},
   "outputs": [],
   "source": [
    "import requests"
   ]
  },
  {
   "cell_type": "code",
   "execution_count": null,
   "id": "f1db718d-44b7-4620-bb22-9a5a78ddd263",
   "metadata": {},
   "outputs": [],
   "source": [
    "{\n",
    "    \"tenant\":\"SCIS\",\n",
    "    \"transactionId\":\"a750165d557443feb043693cac84515878de0f394413be869f0b62c21f119705\",\n",
    "    \"transactionDate\":\"2021-09-03\",\n",
    "    \"cardId\":\"605ec742-0ac4-43e7-8e3b-8bc63379a2fe\",\n",
    "    \"merchant\":\"Transaction Record Grab Foods\",\n",
    "    \"mcc\":0,\n",
    "    \"currency\":\"SGD\",\n",
    "    \"amount\":1252.95,\n",
    "    \"rewardAmount\":5011.8,\n",
    "    \"remarks\":\"Campaign reward 4.0\"\n",
    "}"
   ]
  },
  {
   "cell_type": "code",
   "execution_count": 477,
   "id": "3f257f69-309d-4160-8187-aba0fc852bef",
   "metadata": {},
   "outputs": [],
   "source": [
    "test_sample = [ {\n",
    "   \"id\": \"055cd9e8-e9f4-4f8d-9190-1d16251727f7\",   \"tenant\": \"scis\",\n",
    "   \"transaction_id\": \"5cbd48a13727468feab3446eaefe676f9851dff5632a26f6fe00ef9eb44cf1c5\",   \"merchant\": \"Bayer LLC\",\n",
    "   \"mcc\": 1047,   \"currency\": \"SGD\",\n",
    "   \"amount\": 158.54,   \"transaction_date\": \"3/9/2021\",\n",
    "   \"card_id\": \"605ec742-0ac4-43e7-8e3b-8bc63379a2fe\",   \"cardType\": \"scis_shopping\"\n",
    " }, {\n",
    "   \"id\": \"4a25d76c-2db7-47b2-8618-579ef6f203d6\",   \"tenant\": \"scis\",\n",
    "   \"transaction_id\": \"a750165d557443feb043693cac84515878de0f394413be869f0b62c21f119705\",   \"merchant\": \"Transaction Record Grab Foods\",\n",
    "   \"mcc\": 0,   \"currency\": \"SGD\",\n",
    "   \"amount\": 1252.95,   \"transaction_date\": \"3/9/2021\",\n",
    "   \"card_id\": \"605ec742-0ac4-43e7-8e3b-8bc63379a2fe\",   \"cardType\": \"scis_shopping\"\n",
    " },\n",
    " {   \"id\": \"43dd9d38-9b7f-4a28-a131-b8bb29d5093b\",\n",
    "   \"tenant\": \"scis\",   \"transaction_id\": \"41a928d858e21fd360e2f33203381868ffa2285b0f5005e2a3c5ad08b4d9895e\",\n",
    "   \"merchant\": \"Bahringer Group\",   \"mcc\": 8462,\n",
    "   \"currency\": \"SGD\",   \"amount\": 37.72,\n",
    "   \"transaction_date\": \"3/9/2021\",   \"card_id\": \"2379df1a-d1fe-4150-bfb4-b738543bd107\",\n",
    "   \"cardType\": \"scis_shopping\" },\n",
    " {   \"id\": \"5b2d5c02-75fc-404c-bc85-15b88ee8eb2a\",\n",
    "   \"tenant\": \"scis\",   \"transaction_id\": \"8a46f127d7e3ec1e56489937a2d4a2a44d1852f10403f3186ccc184b39299d2f\",\n",
    "   \"merchant\": \"Langworth Inc\",   \"mcc\": 9997,\n",
    "   \"currency\": \"SGD\",   \"amount\": 64.77,\n",
    "   \"transaction_date\": \"3/9/2021\",   \"card_id\": \"2379df1a-d1fe-4150-bfb4-b738543bd107\",\n",
    "   \"cardType\": \"scis_shopping\" },\n",
    " {   \"id\": \"20285a85-788f-47e6-8669-15f75e8fe6ff\",\n",
    "   \"tenant\": \"scis\",   \"transaction_id\": \"3cc0c41872cc33b39c8d249841cccfaeb8fba2b672020d9041f03a939205f77b\",\n",
    "   \"merchant\": \"Smith\",   \"mcc\": 8173,\n",
    "   \"currency\": \"USD\",   \"amount\": 580.94,\n",
    "   \"transaction_date\": \"3/9/2021\",   \"card_id\": \"2379df1a-d1fe-4150-bfb4-b738543bd107\",\n",
    "   \"cardType\": \"scis_shopping\" }\n",
    "]"
   ]
  },
  {
   "cell_type": "code",
   "execution_count": 481,
   "id": "505669eb-0dca-4d62-bc8e-b327f36236f0",
   "metadata": {},
   "outputs": [],
   "source": [
    "import pandas as pd\n",
    "df = pd.DataFrame(test_sample)"
   ]
  },
  {
   "cell_type": "code",
   "execution_count": 483,
   "id": "4f928334-d8fb-4be2-b6cd-ef3b3bb6c73c",
   "metadata": {},
   "outputs": [],
   "source": [
    "df.to_csv(\"testSpend.csv\")"
   ]
  },
  {
   "cell_type": "code",
   "execution_count": null,
   "id": "45ba504a-c74a-42e4-bf90-e19e3f4cacd3",
   "metadata": {},
   "outputs": [],
   "source": []
  }
 ],
 "metadata": {
  "kernelspec": {
   "display_name": "Python 3",
   "language": "python",
   "name": "python3"
  },
  "language_info": {
   "codemirror_mode": {
    "name": "ipython",
    "version": 3
   },
   "file_extension": ".py",
   "mimetype": "text/x-python",
   "name": "python",
   "nbconvert_exporter": "python",
   "pygments_lexer": "ipython3",
   "version": "3.7.15"
  }
 },
 "nbformat": 4,
 "nbformat_minor": 5
}
